{
 "cells": [
  {
   "cell_type": "code",
   "execution_count": 34,
   "id": "484807d8",
   "metadata": {},
   "outputs": [],
   "source": [
    "## Aditya Agre\n",
    "# 121B1B006\n",
    "## ML assignment 3"
   ]
  },
  {
   "cell_type": "code",
   "execution_count": 70,
   "id": "5212f350",
   "metadata": {},
   "outputs": [],
   "source": [
    "import pandas as pd\n",
    "from sklearn.preprocessing import StandardScaler\n",
    "from sklearn.neighbors import KNeighborsClassifier\n",
    "from sklearn.metrics import accuracy_score\n",
    "import numpy as np\n",
    "import seaborn as sns"
   ]
  },
  {
   "cell_type": "code",
   "execution_count": 71,
   "id": "49cbbe2a",
   "metadata": {},
   "outputs": [],
   "source": [
    "## Making sample data\n",
    "data = {\n",
    "    'S1' : [2,4,4,4,6,6],\n",
    "    'S2' : [4,6,4,2,4,2],\n",
    "    'Class': [\"neg\",\"neg\", \"pos\", \"neg\",\"neg\", \"pos\"]\n",
    "}\n",
    "\n",
    "import pandas as pd\n",
    "df = pd.DataFrame(data)"
   ]
  },
  {
   "cell_type": "code",
   "execution_count": 72,
   "id": "6a7f6334",
   "metadata": {},
   "outputs": [
    {
     "name": "stdout",
     "output_type": "stream",
     "text": [
      "<class 'pandas.core.frame.DataFrame'>\n",
      "<class 'str'> S1\n",
      "<class 'str'> S2\n"
     ]
    }
   ],
   "source": [
    "y = df['Class']\n",
    "X = df.drop(columns = ['Class'])\n",
    "print(type(X))\n",
    "for i in X:\n",
    "    print(type(i), i)"
   ]
  },
  {
   "cell_type": "code",
   "execution_count": 73,
   "id": "31fa14b4",
   "metadata": {},
   "outputs": [
    {
     "data": {
      "image/png": "[encoded data removed]",
      "text/plain": [
       "<Figure size 640x480 with 1 Axes>"
      ]
     },
     "metadata": {},
     "output_type": "display_data"
    }
   ],
   "source": [
    "## Visualising data\n",
    "import matplotlib.pyplot as plt\n",
    "plt.scatter(data['S1'], data['S2'])\n",
    "plt.show()"
   ]
  },
  {
   "cell_type": "code",
   "execution_count": 81,
   "id": "e8442ea6",
   "metadata": {},
   "outputs": [
    {
     "name": "stderr",
     "output_type": "stream",
     "text": [
      "/Users/adityaagre/anaconda3/lib/python3.11/site-packages/seaborn/axisgrid.py:118: UserWarning: The figure layout has changed to tight\n",
      "  self._figure.tight_layout(*args, **kwargs)\n"
     ]
    },
    {
     "data": {
      "text/plain": [
       "<seaborn.axisgrid.FacetGrid at 0x12dcc80d0>"
      ]
     },
     "execution_count": 81,
     "metadata": {},
     "output_type": "execute_result"
    },
    {
     "data": {
      "image/png": "[encoded data removed]",
      "text/plain": [
       "<Figure size 559.125x300 with 1 Axes>"
      ]
     },
     "metadata": {},
     "output_type": "display_data"
    }
   ],
   "source": [
    "fg = sns.FacetGrid(data=df, hue='Class', aspect=1.61)\n",
    "fg.map(plt.scatter, 'S1', 'S2').add_legend()"
   ]
  },
  {
   "cell_type": "code",
   "execution_count": 51,
   "id": "182878d6",
   "metadata": {},
   "outputs": [
    {
     "name": "stdout",
     "output_type": "stream",
     "text": [
      "[[-1.69774938  0.24253563]\n",
      " [-0.24253563  1.69774938]\n",
      " [-0.24253563  0.24253563]\n",
      " [-0.24253563 -1.21267813]\n",
      " [ 1.21267813  0.24253563]\n",
      " [ 1.21267813 -1.21267813]]\n"
     ]
    }
   ],
   "source": [
    "# Standardize the features\n",
    "scaler = StandardScaler()\n",
    "X_scaled = scaler.fit_transform(X)\n",
    "print(X_scaled)\n"
   ]
  },
  {
   "cell_type": "code",
   "execution_count": 39,
   "id": "cb2a4f32",
   "metadata": {},
   "outputs": [
    {
     "name": "stdout",
     "output_type": "stream",
     "text": [
      "Accuracy after considering  1  neighbours:  1.0\n",
      "Accuracy after considering  3  neighbours:  0.3333333333333333\n",
      "Accuracy after considering  5  neighbours:  0.6666666666666666\n"
     ]
    }
   ],
   "source": [
    "## Finding the best k value using elbow method\n",
    "k_list = []\n",
    "acc_list = []\n",
    "for i in range(1, 7, 2):\n",
    "\n",
    "  # Making the KNN model\n",
    "  k = i  # Number of neighbors\n",
    "  knn_model = KNeighborsClassifier(n_neighbors=k)\n",
    "  ## score = cross_val_score(knn_model, X_scaled, y, cv=5)\n",
    "  knn_model.fit(X_scaled, y)\n",
    "  y_pred = knn_model.predict(X_scaled)\n",
    "  accuracy = accuracy_score(y, y_pred)\n",
    "  k_list.append(k)\n",
    "  acc_list.append(accuracy)\n",
    "  print(\"Accuracy after considering \", k, \" neighbours: \", accuracy)  \n",
    "\n",
    "  #k_list.append(k)\n",
    "  #acc_list.append(score)\n",
    "  #print(\"Accuracy after considering \", k, \" neighbours: \", score, np.average(score))"
   ]
  },
  {
   "cell_type": "code",
   "execution_count": 40,
   "id": "a5c545bb",
   "metadata": {},
   "outputs": [
    {
     "name": "stdout",
     "output_type": "stream",
     "text": [
      "33.33333333333333\n"
     ]
    }
   ],
   "source": [
    "## best performance for 5 neighbours.\n",
    "## Question specifies using 3 neighbours\n",
    "knn_model = KNeighborsClassifier(n_neighbors = 3)\n",
    "knn_model.fit(X_scaled, y)\n",
    "y_pred = knn_model.predict(X_scaled)\n",
    "accuracy = accuracy_score(y, y_pred)\n",
    "print(accuracy*100)"
   ]
  },
  {
   "cell_type": "code",
   "execution_count": 41,
   "id": "f165aea0",
   "metadata": {},
   "outputs": [],
   "source": [
    "# Weighted KNN\n",
    "## In weighted kNN, the nearest k points are given a weight using a function called as the kernel function. \n",
    "##The intuition behind weighted kNN, is to give more weight to the points which are nearby and less weight \n",
    "## to the points which are farther away. Any function can be used as a kernel function for the weighted knn \n",
    "## classifier whose value decreases as the distance increases. The simple function which is used is the \n",
    "## inverse distance function.\n",
    "## https://media.geeksforgeeks.org/wp-content/uploads/20190613174426/Formula2.jpg"
   ]
  },
  {
   "cell_type": "code",
   "execution_count": 42,
   "id": "5425e2e3",
   "metadata": {},
   "outputs": [
    {
     "name": "stdout",
     "output_type": "stream",
     "text": [
      "100.0\n"
     ]
    }
   ],
   "source": [
    "knn_model2 = KNeighborsClassifier(n_neighbors = 3, weights = 'distance')\n",
    "knn_model2.fit(X_scaled, y)\n",
    "y_pred = knn_model2.predict(X_scaled)\n",
    "accuracy = accuracy_score(y, y_pred)\n",
    "print(accuracy*100)"
   ]
  },
  {
   "cell_type": "code",
   "execution_count": 43,
   "id": "fb9745ff",
   "metadata": {},
   "outputs": [],
   "source": [
    "## Therefore, KNN algorithm for 3 neighbors gives an accuracy of 33% while KNN \n",
    "## weighed by distance gives 100% accuracy."
   ]
  },
  {
   "cell_type": "code",
   "execution_count": 83,
   "id": "14d47dd6",
   "metadata": {},
   "outputs": [
    {
     "name": "stdout",
     "output_type": "stream",
     "text": [
      "   0  1\n",
      "0  6  6\n",
      "[[0. 0.]]\n"
     ]
    }
   ],
   "source": [
    "## predicting for sample {6,6}\n",
    "## Input values saled for training model. \n",
    "## This sample must also be scaled.\n",
    "## To use the same level of scaling, use the same scaling object that we had fit to out data.\n",
    "sample = np.array([6,6])\n",
    "table = pd.DataFrame([sample])\n",
    "print(table)\n",
    "scaled_table = scaler.fit_transform(table)\n",
    "print(scaled_table)"
   ]
  },
  {
   "cell_type": "code",
   "execution_count": 88,
   "id": "1f955f5a",
   "metadata": {},
   "outputs": [
    {
     "data": {
      "image/png": "[encoded data removed]",
      "text/plain": [
       "<Figure size 640x480 with 1 Axes>"
      ]
     },
     "metadata": {},
     "output_type": "display_data"
    }
   ],
   "source": [
    "## Plotting given point with training points\n",
    "## Visualising data\n",
    "import matplotlib.pyplot as plt\n",
    "plt.scatter(data['S1'], data['S2'])\n",
    "plt.scatter(6,6)\n",
    "plt.show()"
   ]
  },
  {
   "cell_type": "code",
   "execution_count": 62,
   "id": "795ef3c7",
   "metadata": {},
   "outputs": [
    {
     "name": "stdout",
     "output_type": "stream",
     "text": [
      "['neg']\n"
     ]
    }
   ],
   "source": [
    "pred_1 = knn_model.predict(scaled_table)\n",
    "print(pred_1)"
   ]
  },
  {
   "cell_type": "code",
   "execution_count": 63,
   "id": "d10da6a0",
   "metadata": {},
   "outputs": [
    {
     "name": "stdout",
     "output_type": "stream",
     "text": [
      "['pos']\n"
     ]
    }
   ],
   "source": [
    "pred_2 = knn_model2.predict(scaled_table)\n",
    "print(pred_2)"
   ]
  },
  {
   "cell_type": "code",
   "execution_count": null,
   "id": "e98b0bdd",
   "metadata": {},
   "outputs": [],
   "source": [
    "## Model 1 predicts Negative class while model 2 predicts positive class."
   ]
  }
 ],
 "metadata": {
  "kernelspec": {
   "display_name": "Python 3 (ipykernel)",
   "language": "python",
   "name": "python3"
  },
  "language_info": {
   "codemirror_mode": {
    "name": "ipython",
    "version": 3
   },
   "file_extension": ".py",
   "mimetype": "text/x-python",
   "name": "python",
   "nbconvert_exporter": "python",
   "pygments_lexer": "ipython3",
   "version": "3.11.5"
  }
 },
 "nbformat": 4,
 "nbformat_minor": 5
}
